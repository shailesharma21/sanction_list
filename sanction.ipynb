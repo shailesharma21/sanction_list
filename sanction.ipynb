{
 "cells": [
  {
   "cell_type": "code",
   "execution_count": 155,
   "id": "8389bae5",
   "metadata": {},
   "outputs": [],
   "source": [
    "import pandas as pd\n",
    "import numpy as np\n",
    "import re\n",
    "from fuzzywuzzy import fuzz\n",
    "import jellyfish as jf "
   ]
  },
  {
   "cell_type": "code",
   "execution_count": 96,
   "id": "4f7072ae",
   "metadata": {},
   "outputs": [
    {
     "name": "stderr",
     "output_type": "stream",
     "text": [
      "C:\\Users\\shailesh.sharma\\Anaconda3\\lib\\site-packages\\IPython\\core\\interactiveshell.py:3444: DtypeWarning: Columns (7,13,14,18,27,28,38,43,49,50,51,52,53,56,63,66,67,68,78,79) have mixed types.Specify dtype option on import or set low_memory=False.\n",
      "  exec(code_obj, self.user_global_ns, self.user_ns)\n"
     ]
    }
   ],
   "source": [
    "df1 = pd.read_csv('supplier_list.csv')"
   ]
  },
  {
   "cell_type": "code",
   "execution_count": 98,
   "id": "70438f8f",
   "metadata": {},
   "outputs": [],
   "source": [
    "supplier_list = df1.loc[df1['Name'].str.startswith('RU')]"
   ]
  },
  {
   "cell_type": "code",
   "execution_count": 99,
   "id": "e4ddf844",
   "metadata": {},
   "outputs": [],
   "source": [
    "translated_names = pd.read_csv('translate.csv')"
   ]
  },
  {
   "cell_type": "code",
   "execution_count": 102,
   "id": "57547324",
   "metadata": {},
   "outputs": [],
   "source": [
    "df2 = pd.read_excel('UK_Sanctions_List.ods', engine='odf',skiprows=1,header=1)"
   ]
  },
  {
   "cell_type": "code",
   "execution_count": 104,
   "id": "0cc42460",
   "metadata": {},
   "outputs": [],
   "source": [
    "uk_sanctions = df2.loc[df2['Unique ID'].str.startswith('RUS')]"
   ]
  },
  {
   "cell_type": "code",
   "execution_count": 105,
   "id": "fa1a9223",
   "metadata": {},
   "outputs": [],
   "source": [
    "uk_sanction = uk_sanctions.loc[uk_sanctions['Individual, Entity, Ship']=='Entity']"
   ]
  },
  {
   "cell_type": "code",
   "execution_count": 182,
   "id": "43e0a6e5",
   "metadata": {},
   "outputs": [],
   "source": [
    "def f_get_modified_str(input_str):\n",
    "    # Transform to lower case\n",
    "    input_str = input_str.strip().lower()\n",
    "    # Replace '&' char to word 'and'\n",
    "    input_str = input_str.replace(' & ', ' and ')\n",
    "    # Remove all other special chars\n",
    "    input_str = \" \".join(re.findall(\"[a-zA-Z0-9]+\", input_str))\n",
    "    # Remove extra spaces\n",
    "    input_str = \" \".join(input_str.split())\n",
    "    return input_str.strip()\n",
    "\n",
    "# Function to decode any string type to unicode\n",
    "def to_unicode(obj, encoding='utf-8'):\n",
    "    if not isinstance(obj, type(str)):\n",
    "        return obj.decode(encoding, errors='ignore')\n",
    "    return obj\n",
    "\n",
    "\n",
    "def name_match(name1, name2):\n",
    "    name1 = name1.split()\n",
    "    name2 = name2.split()\n",
    "    if name1 and name2:\n",
    "        ratio1 = 0.0\n",
    "        for i in range(len(name1)):\n",
    "            for j in range(i, len(name2)):\n",
    "                if fuzz.ratio(name1[i], name2[j]) > 90:\n",
    "                    ratio1 += 1.0\n",
    "                    break\n",
    "        try:\n",
    "            ratio1 = 100 * (ratio1 / len(name1))\n",
    "        except ZeroDivisionError:\n",
    "            ratio1 = 0.0\n",
    "        ratio2 = 0.0\n",
    "        for i in range(len(name2)):\n",
    "            for j in range(i, len(name1)):\n",
    "                if fuzz.ratio(name2[i], name1[j]) > 90:\n",
    "                    ratio2 += 1.0\n",
    "                    break\n",
    "        try:\n",
    "            ratio2 = 100 * (ratio2 / len(name2))\n",
    "        except ZeroDivisionError:\n",
    "            ratio2 = 0.0\n",
    "        return int(max(ratio1, ratio2))\n",
    "    return 0\n",
    "\n",
    "# Function to calculate fuzzy match score for two given strings\n",
    "def f_name_match_score(str1, str2):\n",
    "    # Transform name\n",
    "    if len(str1) > 1 and len(str2) > 1:\n",
    "        str1 = f_get_modified_str(str1)\n",
    "        str2 = f_get_modified_str(str2)\n",
    "        # Convert to unicode to avoid error\n",
    "        str1 = to_unicode(str1)\n",
    "        str2 = to_unicode(str2)\n",
    "        # Compute match scores\n",
    "        score1 = fuzz.ratio(str1, str2)\n",
    "        score2 = fuzz.token_sort_ratio(str1, str2)\n",
    "        score3 = jf.jaro_winkler(str1, str2) * 100\n",
    "        #score4 = name_match(str1, str2)\n",
    "        if len(str1.split()) == 1:\n",
    "            score4 = fuzz.ratio(str1.split()[0], str2.split()[0])\n",
    "        s_max = max(score1, score2, score3)\n",
    "    else:\n",
    "        s_max = 0\n",
    "    return s_max"
   ]
  },
  {
   "cell_type": "code",
   "execution_count": 186,
   "id": "f3dcbc3c",
   "metadata": {},
   "outputs": [],
   "source": [
    "fl_dict = {}\n",
    "for i in translated_names['Translated value using Google Translate']:\n",
    "    rp = ['LLC','JSC','IP','GUP','PJSC','OJSC','CJSC','OOO','Limited Liability Company','Open Joint Stock Company','Joint-Stock Company','Public Joint Stock Company','Joint Stock Company','Joint-stock company','AO','OO']\n",
    "    for k in rp:\n",
    "        if k in i:\n",
    "            i = i.replace(k,'')    \n",
    "    t_dict={}\n",
    "    sorted_dict = {}\n",
    "    for j in uk_sanction['Name 6']:\n",
    "        for k in rp:\n",
    "            if k in j:\n",
    "                j = j.replace(k,'') \n",
    "        if j not in t_dict.keys():\n",
    "            t_dict[j] = f_name_match_score(i,j)\n",
    "    sorted_dict = sorted(t_dict.items(),key = lambda kv: kv[1],reverse=True)\n",
    "    fl_dict[i] = list(sorted_dict)[:5]\n",
    "    \n",
    "\n",
    "df = pd.DataFrame(fl_dict)    "
   ]
  },
  {
   "cell_type": "code",
   "execution_count": 187,
   "id": "520e4e8d",
   "metadata": {},
   "outputs": [],
   "source": [
    "df_t = df.T"
   ]
  },
  {
   "cell_type": "code",
   "execution_count": 188,
   "id": "e97bbb36",
   "metadata": {},
   "outputs": [],
   "source": [
    "df_t.to_csv('top Matches9.csv')"
   ]
  }
 ],
 "metadata": {
  "kernelspec": {
   "display_name": "Python 3 (ipykernel)",
   "language": "python",
   "name": "python3"
  },
  "language_info": {
   "codemirror_mode": {
    "name": "ipython",
    "version": 3
   },
   "file_extension": ".py",
   "mimetype": "text/x-python",
   "name": "python",
   "nbconvert_exporter": "python",
   "pygments_lexer": "ipython3",
   "version": "3.9.7"
  }
 },
 "nbformat": 4,
 "nbformat_minor": 5
}
